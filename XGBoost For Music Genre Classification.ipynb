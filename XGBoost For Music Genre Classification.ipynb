{
 "cells": [
  {
   "cell_type": "markdown",
   "metadata": {},
   "source": [
    "<center><h1>XGBoost For Music Genre Classification</h1></center>"
   ]
  },
  {
   "cell_type": "markdown",
   "metadata": {},
   "source": [
    "## Abstract"
   ]
  },
  {
   "cell_type": "markdown",
   "metadata": {},
   "source": [
    "<p>\n",
    "This report aims to show an approach on how to solve an interesting problem which resolves around classifying music genres.\n",
    "The music genre classification has been implemented in many applications that we use in our everyday lives.\n",
    "The most famous app for that purpose is \"Shazam\".\n",
    "\n",
    "In the report we first focus on exploring the data that we have and see what we are dealing with.\n",
    "We do some visualization in order to see the class distribution of the training dataset and detect potential outliers.\n",
    "\n",
    "After we have obtained information about our data, the next step is to preprocess it in order to feed it to the classifier.\n",
    "We use the <b>XGBoost</b> classifier to classify the music genres.\n",
    "\n",
    "At the end we evaluate the performance of the classifier using accuracy and LogLoss.\n",
    "With the accuracy measure, we get score of <b>0.667</b> and with LogLoss measure, we get score of <b>0.186</b>\n",
    "</p>\n",
    "\n"
   ]
  },
  {
   "cell_type": "markdown",
   "metadata": {},
   "source": [
    "## 1. Introduction"
   ]
  },
  {
   "cell_type": "markdown",
   "metadata": {},
   "source": [
    "<p>\n",
    "The aim of this project is to get our hands on a real-world data, analyse the data and see what we are dealing with, use the right preprocessing tools to try to improve the quality of the data and try to find the classification algorithm that performs best with the data that we have.\n",
    "\n",
    "\n",
    "In this report we address couple of different questions, such has:\n",
    "<ul>\n",
    "    <li>\n",
    "        How does our data look like?\n",
    "    </li>\n",
    "    <li>\n",
    "        How to visualize our data in order to get a better representation of it?\n",
    "    </li>\n",
    "    <li>\n",
    "        How to deal with imbalanced datasets?\n",
    "    </li>\n",
    "    <li>\n",
    "        How to do hyperparameter tunning?\n",
    "    </li>\n",
    "    <li>\n",
    "        How to evaluate the performance of our algorithm?\n",
    "    </li>\n",
    "</ul>\n",
    "\n",
    "\n",
    "Music plays huge role in our everyday lives.\n",
    "Music classification is a \"hot\" topic right now. Many big companies try to or have already developed a good classifier that gives satisfying results and use it in their applications in order to simplify the lives of the users.<br>\n",
    "The classifiers that have been developed give good results but are not perfect and there is still room for improvement.\n",
    "</p>"
   ]
  },
  {
   "cell_type": "markdown",
   "metadata": {},
   "source": [
    "## 2. Data analysis"
   ]
  },
  {
   "cell_type": "code",
   "execution_count": 96,
   "metadata": {},
   "outputs": [],
   "source": [
    "# Import libraries\n",
    "import pandas as pd\n",
    "import numpy as np\n",
    "import matplotlib.pyplot as plt"
   ]
  },
  {
   "cell_type": "code",
   "execution_count": 97,
   "metadata": {},
   "outputs": [
    {
     "name": "stderr",
     "output_type": "stream",
     "text": [
      "/usr/local/lib/python3.6/dist-packages/ipykernel_launcher.py:4: FutureWarning: Method .as_matrix will be removed in a future version. Use .values instead.\n",
      "  after removing the cwd from sys.path.\n"
     ]
    },
    {
     "name": "stdout",
     "output_type": "stream",
     "text": [
      "The number of dimensions that the data has is: 264\n",
      "The number of training samples is: 4363\n"
     ]
    }
   ],
   "source": [
    "# Load the data\n",
    "def get_data(path):\n",
    "    data = pd.read_csv(path, header=None)\n",
    "    data_matrix = data.as_matrix()\n",
    "    return data_matrix\n",
    "\n",
    "X_train = get_data('data/train_data.csv')\n",
    "y_train = get_data('data/train_labels.csv')\n",
    "X_test = get_data('data/test_data.csv')\n",
    "\n",
    "# Convert y_train to 1d array for the LogisticRegression\n",
    "y_train = np.ravel(y_train)\n",
    "\n",
    "print('The number of dimensions that the data has is: {0}'.format(X_train.shape[1]))\n",
    "print('The number of training samples is: {0}'.format(X_train.shape[0]))"
   ]
  },
  {
   "cell_type": "markdown",
   "metadata": {},
   "source": [
    "<p>\n",
    "From the code above, we can see that out data contains 4363 samples and has relatively high dimensionality - 264 dimensions.\n",
    "</p>"
   ]
  },
  {
   "cell_type": "markdown",
   "metadata": {},
   "source": [
    "<p>\n",
    "Now we take a peek into the training data to see how it looks like \n",
    "</p>"
   ]
  },
  {
   "cell_type": "code",
   "execution_count": 98,
   "metadata": {},
   "outputs": [
    {
     "data": {
      "text/html": [
       "<div>\n",
       "<style scoped>\n",
       "    .dataframe tbody tr th:only-of-type {\n",
       "        vertical-align: middle;\n",
       "    }\n",
       "\n",
       "    .dataframe tbody tr th {\n",
       "        vertical-align: top;\n",
       "    }\n",
       "\n",
       "    .dataframe thead th {\n",
       "        text-align: right;\n",
       "    }\n",
       "</style>\n",
       "<table border=\"1\" class=\"dataframe\">\n",
       "  <thead>\n",
       "    <tr style=\"text-align: right;\">\n",
       "      <th></th>\n",
       "      <th>0</th>\n",
       "      <th>1</th>\n",
       "      <th>2</th>\n",
       "      <th>3</th>\n",
       "      <th>4</th>\n",
       "      <th>5</th>\n",
       "      <th>6</th>\n",
       "      <th>7</th>\n",
       "      <th>8</th>\n",
       "      <th>9</th>\n",
       "      <th>...</th>\n",
       "      <th>254</th>\n",
       "      <th>255</th>\n",
       "      <th>256</th>\n",
       "      <th>257</th>\n",
       "      <th>258</th>\n",
       "      <th>259</th>\n",
       "      <th>260</th>\n",
       "      <th>261</th>\n",
       "      <th>262</th>\n",
       "      <th>263</th>\n",
       "    </tr>\n",
       "  </thead>\n",
       "  <tbody>\n",
       "    <tr>\n",
       "      <th>0</th>\n",
       "      <td>1040.7</td>\n",
       "      <td>2315.6</td>\n",
       "      <td>2839.1</td>\n",
       "      <td>2552.2</td>\n",
       "      <td>2290.4</td>\n",
       "      <td>1913.8</td>\n",
       "      <td>2152.6</td>\n",
       "      <td>1930.3</td>\n",
       "      <td>2079.3</td>\n",
       "      <td>1706.7</td>\n",
       "      <td>...</td>\n",
       "      <td>0.216490</td>\n",
       "      <td>0.36548</td>\n",
       "      <td>0.093584</td>\n",
       "      <td>0.166870</td>\n",
       "      <td>0.083426</td>\n",
       "      <td>0.118090</td>\n",
       "      <td>0.089792</td>\n",
       "      <td>0.074371</td>\n",
       "      <td>0.073162</td>\n",
       "      <td>0.059463</td>\n",
       "    </tr>\n",
       "    <tr>\n",
       "      <th>1</th>\n",
       "      <td>2309.4</td>\n",
       "      <td>4780.4</td>\n",
       "      <td>4055.7</td>\n",
       "      <td>3120.5</td>\n",
       "      <td>1979.9</td>\n",
       "      <td>2343.6</td>\n",
       "      <td>2634.2</td>\n",
       "      <td>3208.5</td>\n",
       "      <td>3078.0</td>\n",
       "      <td>3374.7</td>\n",
       "      <td>...</td>\n",
       "      <td>0.100670</td>\n",
       "      <td>0.14739</td>\n",
       "      <td>0.102560</td>\n",
       "      <td>0.213040</td>\n",
       "      <td>0.082041</td>\n",
       "      <td>0.080967</td>\n",
       "      <td>0.076450</td>\n",
       "      <td>0.052523</td>\n",
       "      <td>0.052357</td>\n",
       "      <td>0.055297</td>\n",
       "    </tr>\n",
       "    <tr>\n",
       "      <th>2</th>\n",
       "      <td>2331.9</td>\n",
       "      <td>4607.0</td>\n",
       "      <td>4732.3</td>\n",
       "      <td>5007.0</td>\n",
       "      <td>3164.9</td>\n",
       "      <td>3171.9</td>\n",
       "      <td>2915.7</td>\n",
       "      <td>3282.3</td>\n",
       "      <td>2400.0</td>\n",
       "      <td>1895.2</td>\n",
       "      <td>...</td>\n",
       "      <td>0.126760</td>\n",
       "      <td>0.36321</td>\n",
       "      <td>0.114200</td>\n",
       "      <td>0.223780</td>\n",
       "      <td>0.100770</td>\n",
       "      <td>0.186910</td>\n",
       "      <td>0.067270</td>\n",
       "      <td>0.061138</td>\n",
       "      <td>0.085509</td>\n",
       "      <td>0.049422</td>\n",
       "    </tr>\n",
       "    <tr>\n",
       "      <th>3</th>\n",
       "      <td>3350.9</td>\n",
       "      <td>6274.4</td>\n",
       "      <td>5037.0</td>\n",
       "      <td>4609.7</td>\n",
       "      <td>3438.8</td>\n",
       "      <td>3925.8</td>\n",
       "      <td>3746.4</td>\n",
       "      <td>3539.4</td>\n",
       "      <td>3053.7</td>\n",
       "      <td>3075.4</td>\n",
       "      <td>...</td>\n",
       "      <td>0.096479</td>\n",
       "      <td>0.28950</td>\n",
       "      <td>0.074124</td>\n",
       "      <td>0.201580</td>\n",
       "      <td>0.049032</td>\n",
       "      <td>0.130210</td>\n",
       "      <td>0.045800</td>\n",
       "      <td>0.080885</td>\n",
       "      <td>0.148910</td>\n",
       "      <td>0.042027</td>\n",
       "    </tr>\n",
       "    <tr>\n",
       "      <th>4</th>\n",
       "      <td>2017.6</td>\n",
       "      <td>3351.8</td>\n",
       "      <td>2924.9</td>\n",
       "      <td>2726.3</td>\n",
       "      <td>1979.9</td>\n",
       "      <td>1930.9</td>\n",
       "      <td>2083.4</td>\n",
       "      <td>1889.2</td>\n",
       "      <td>1695.4</td>\n",
       "      <td>1911.7</td>\n",
       "      <td>...</td>\n",
       "      <td>0.138340</td>\n",
       "      <td>0.38266</td>\n",
       "      <td>0.079402</td>\n",
       "      <td>0.063495</td>\n",
       "      <td>0.053717</td>\n",
       "      <td>0.086750</td>\n",
       "      <td>0.062090</td>\n",
       "      <td>0.048999</td>\n",
       "      <td>0.033159</td>\n",
       "      <td>0.070813</td>\n",
       "    </tr>\n",
       "  </tbody>\n",
       "</table>\n",
       "<p>5 rows × 264 columns</p>\n",
       "</div>"
      ],
      "text/plain": [
       "      0       1       2       3       4       5       6       7       8    \\\n",
       "0  1040.7  2315.6  2839.1  2552.2  2290.4  1913.8  2152.6  1930.3  2079.3   \n",
       "1  2309.4  4780.4  4055.7  3120.5  1979.9  2343.6  2634.2  3208.5  3078.0   \n",
       "2  2331.9  4607.0  4732.3  5007.0  3164.9  3171.9  2915.7  3282.3  2400.0   \n",
       "3  3350.9  6274.4  5037.0  4609.7  3438.8  3925.8  3746.4  3539.4  3053.7   \n",
       "4  2017.6  3351.8  2924.9  2726.3  1979.9  1930.9  2083.4  1889.2  1695.4   \n",
       "\n",
       "      9      ...          254      255       256       257       258  \\\n",
       "0  1706.7    ...     0.216490  0.36548  0.093584  0.166870  0.083426   \n",
       "1  3374.7    ...     0.100670  0.14739  0.102560  0.213040  0.082041   \n",
       "2  1895.2    ...     0.126760  0.36321  0.114200  0.223780  0.100770   \n",
       "3  3075.4    ...     0.096479  0.28950  0.074124  0.201580  0.049032   \n",
       "4  1911.7    ...     0.138340  0.38266  0.079402  0.063495  0.053717   \n",
       "\n",
       "        259       260       261       262       263  \n",
       "0  0.118090  0.089792  0.074371  0.073162  0.059463  \n",
       "1  0.080967  0.076450  0.052523  0.052357  0.055297  \n",
       "2  0.186910  0.067270  0.061138  0.085509  0.049422  \n",
       "3  0.130210  0.045800  0.080885  0.148910  0.042027  \n",
       "4  0.086750  0.062090  0.048999  0.033159  0.070813  \n",
       "\n",
       "[5 rows x 264 columns]"
      ]
     },
     "execution_count": 98,
     "metadata": {},
     "output_type": "execute_result"
    }
   ],
   "source": [
    "X_train_df = pd.DataFrame(X_train)\n",
    "X_train_df.head()"
   ]
  },
  {
   "cell_type": "markdown",
   "metadata": {},
   "source": [
    "<p>\n",
    "The data is distributed in 10 classes, each of which represents a music genre.\n",
    "These are the genres that we will train our classifier to predict:\n",
    "<ol>\n",
    "    <li>Pop_Rock</li>\n",
    "    <li>Electronic</li>\n",
    "    <li>Rap</li>\n",
    "    <li>Jazz</li>\n",
    "    <li>Latin</li>\n",
    "    <li>RnB</li>\n",
    "    <li>International</li>\n",
    "    <li>Country</li>\n",
    "    <li>Reggae</li>\n",
    "    <li>Blues</li>\n",
    "</ol>\n",
    "</p>"
   ]
  },
  {
   "cell_type": "markdown",
   "metadata": {},
   "source": [
    "<p>\n",
    "    Next thing we can do is to visualize the class distribution to see what kind of data we are dealing with\n",
    "</p>"
   ]
  },
  {
   "cell_type": "code",
   "execution_count": 99,
   "metadata": {
    "scrolled": true
   },
   "outputs": [
    {
     "data": {
      "text/plain": [
       "<BarContainer object of 10 artists>"
      ]
     },
     "execution_count": 99,
     "metadata": {},
     "output_type": "execute_result"
    },
    {
     "data": {
      "image/png": "[encoded data removed]",
      "text/plain": [
       "<Figure size 432x288 with 1 Axes>"
      ]
     },
     "metadata": {
      "needs_background": "light"
     },
     "output_type": "display_data"
    }
   ],
   "source": [
    "# Visualize the class distribution\n",
    "\n",
    "df_x = pd.DataFrame(X_train)\n",
    "df_y = pd.DataFrame({'Label': y_train})\n",
    "df = pd.concat([df_x, df_y], axis=1)\n",
    "\n",
    "\n",
    "label_1 = df.loc[df['Label'] == 1]\n",
    "label_2 = df.loc[df['Label'] == 2]\n",
    "label_3 = df.loc[df['Label'] == 3]\n",
    "label_4 = df.loc[df['Label'] == 4]\n",
    "label_5 = df.loc[df['Label'] == 5]\n",
    "label_6 = df.loc[df['Label'] == 6]\n",
    "label_7 = df.loc[df['Label'] == 7]\n",
    "label_8 = df.loc[df['Label'] == 8]\n",
    "label_9 = df.loc[df['Label'] == 9]\n",
    "label_10 = df.loc[df['Label'] == 10]\n",
    "\n",
    "\n",
    "n_classes = np.arange(1, 11, 1)\n",
    "num_in_class = [len(label_1), len(label_2), len(label_3), len(label_4), len(label_5), len(label_6), len(label_7), len(label_8), len(label_9), len(label_10)]\n",
    "\n",
    "fig, ax = plt.subplots()\n",
    "ax.set_xticks(n_classes)\n",
    "ax.set_yticks(np.arange(200, 2500, 200))\n",
    "plt.xlabel('Classes')\n",
    "plt.ylabel('Samples')\n",
    "plt.title('Class distribution') \n",
    "plt.bar(n_classes, num_in_class)"
   ]
  },
  {
   "cell_type": "markdown",
   "metadata": {},
   "source": [
    "<p>\n",
    "From the histogram above, we can see that the data is highly imbalanced.\n",
    "The most of the data is from class 1 (about 50%) and the rest is divided between the other classes. \n",
    "</p>"
   ]
  },
  {
   "cell_type": "markdown",
   "metadata": {},
   "source": [
    "<p>\n",
    "In order to visualize the fearutes, we can reduce the dimensionality with principal component analysis and use 2 principal components for the visualization.\n",
    "We do that in the next block\n",
    "</p>"
   ]
  },
  {
   "cell_type": "code",
   "execution_count": 100,
   "metadata": {},
   "outputs": [
    {
     "data": {
      "text/plain": [
       "<matplotlib.collections.PathCollection at 0x7fbc0c2b1c18>"
      ]
     },
     "execution_count": 100,
     "metadata": {},
     "output_type": "execute_result"
    },
    {
     "data": {
      "image/png": "[encoded data removed]",
      "text/plain": [
       "<Figure size 432x288 with 1 Axes>"
      ]
     },
     "metadata": {
      "needs_background": "light"
     },
     "output_type": "display_data"
    }
   ],
   "source": [
    "from sklearn.decomposition import PCA\n",
    "\n",
    "pca = PCA(\n",
    "    n_components = 2\n",
    ")\n",
    "\n",
    "\n",
    "X_train_pca = pca.fit_transform(X_train)\n",
    "\n",
    "df_pca = pd.DataFrame(X_train_pca)\n",
    "\n",
    "plt.title('2D Features')\n",
    "plt.scatter(df_pca[0], df_pca[1])"
   ]
  },
  {
   "cell_type": "markdown",
   "metadata": {},
   "source": [
    "<p>\n",
    "In the histograms below, we can see how the feature values are distributed for the first 2 principal components of the <b>unnormalized</b> data.\n",
    "    \n",
    "This can be useful for detecting outliers.\n",
    "</p>"
   ]
  },
  {
   "cell_type": "code",
   "execution_count": 101,
   "metadata": {},
   "outputs": [
    {
     "data": {
      "text/plain": [
       "array([[<matplotlib.axes._subplots.AxesSubplot object at 0x7fbbc54c8ba8>,\n",
       "        <matplotlib.axes._subplots.AxesSubplot object at 0x7fbbc546f780>]],\n",
       "      dtype=object)"
      ]
     },
     "execution_count": 101,
     "metadata": {},
     "output_type": "execute_result"
    },
    {
     "data": {
      "image/png": "[encoded data removed]",
      "text/plain": [
       "<Figure size 432x288 with 2 Axes>"
      ]
     },
     "metadata": {
      "needs_background": "light"
     },
     "output_type": "display_data"
    }
   ],
   "source": [
    "df_pca.hist()"
   ]
  },
  {
   "cell_type": "markdown",
   "metadata": {},
   "source": [
    "<p>\n",
    "In the density plot below, we can see how the feature values are distributed for the first 2 principal components of the <b>unnormalized</b> data.\n",
    "    \n",
    "This can also help us in detecting outliers.\n",
    "</p>"
   ]
  },
  {
   "cell_type": "code",
   "execution_count": 102,
   "metadata": {},
   "outputs": [
    {
     "data": {
      "text/plain": [
       "array([<matplotlib.axes._subplots.AxesSubplot object at 0x7fbbbd9a1438>,\n",
       "       <matplotlib.axes._subplots.AxesSubplot object at 0x7fbbc8357978>],\n",
       "      dtype=object)"
      ]
     },
     "execution_count": 102,
     "metadata": {},
     "output_type": "execute_result"
    },
    {
     "data": {
      "image/png": "[encoded data removed]",
      "text/plain": [
       "<Figure size 432x288 with 2 Axes>"
      ]
     },
     "metadata": {
      "needs_background": "light"
     },
     "output_type": "display_data"
    }
   ],
   "source": [
    "df_pca.plot(kind='density',subplots=True,sharex=False)"
   ]
  },
  {
   "cell_type": "markdown",
   "metadata": {},
   "source": [
    "<p>\n",
    "From the above blocks, we can see that different feature values are in different range which can be bad for the classification algorithm.\n",
    "In order to fix this problem, we do <b>feature scaling</b>.\n",
    "</p>"
   ]
  },
  {
   "cell_type": "code",
   "execution_count": 103,
   "metadata": {},
   "outputs": [
    {
     "data": {
      "text/html": [
       "<div>\n",
       "<style scoped>\n",
       "    .dataframe tbody tr th:only-of-type {\n",
       "        vertical-align: middle;\n",
       "    }\n",
       "\n",
       "    .dataframe tbody tr th {\n",
       "        vertical-align: top;\n",
       "    }\n",
       "\n",
       "    .dataframe thead th {\n",
       "        text-align: right;\n",
       "    }\n",
       "</style>\n",
       "<table border=\"1\" class=\"dataframe\">\n",
       "  <thead>\n",
       "    <tr style=\"text-align: right;\">\n",
       "      <th></th>\n",
       "      <th>0</th>\n",
       "      <th>1</th>\n",
       "      <th>2</th>\n",
       "      <th>3</th>\n",
       "      <th>4</th>\n",
       "      <th>5</th>\n",
       "      <th>6</th>\n",
       "      <th>7</th>\n",
       "      <th>8</th>\n",
       "      <th>9</th>\n",
       "      <th>...</th>\n",
       "      <th>254</th>\n",
       "      <th>255</th>\n",
       "      <th>256</th>\n",
       "      <th>257</th>\n",
       "      <th>258</th>\n",
       "      <th>259</th>\n",
       "      <th>260</th>\n",
       "      <th>261</th>\n",
       "      <th>262</th>\n",
       "      <th>263</th>\n",
       "    </tr>\n",
       "  </thead>\n",
       "  <tbody>\n",
       "    <tr>\n",
       "      <th>0</th>\n",
       "      <td>-1.571333</td>\n",
       "      <td>-1.423949</td>\n",
       "      <td>-0.935285</td>\n",
       "      <td>-1.169432</td>\n",
       "      <td>-0.772396</td>\n",
       "      <td>-1.258998</td>\n",
       "      <td>-0.811812</td>\n",
       "      <td>-0.985136</td>\n",
       "      <td>-0.581884</td>\n",
       "      <td>-0.756522</td>\n",
       "      <td>...</td>\n",
       "      <td>1.279245</td>\n",
       "      <td>1.266232</td>\n",
       "      <td>-0.158097</td>\n",
       "      <td>0.297566</td>\n",
       "      <td>0.164625</td>\n",
       "      <td>0.499226</td>\n",
       "      <td>0.921775</td>\n",
       "      <td>-0.185416</td>\n",
       "      <td>0.092879</td>\n",
       "      <td>0.006096</td>\n",
       "    </tr>\n",
       "    <tr>\n",
       "      <th>1</th>\n",
       "      <td>-0.602171</td>\n",
       "      <td>0.267213</td>\n",
       "      <td>0.055395</td>\n",
       "      <td>-0.711935</td>\n",
       "      <td>-1.073589</td>\n",
       "      <td>-0.876857</td>\n",
       "      <td>-0.373028</td>\n",
       "      <td>0.155161</td>\n",
       "      <td>0.399480</td>\n",
       "      <td>0.963212</td>\n",
       "      <td>...</td>\n",
       "      <td>-0.897103</td>\n",
       "      <td>-0.852736</td>\n",
       "      <td>0.074136</td>\n",
       "      <td>1.103637</td>\n",
       "      <td>0.111916</td>\n",
       "      <td>-0.726099</td>\n",
       "      <td>0.269456</td>\n",
       "      <td>-1.177036</td>\n",
       "      <td>-0.694615</td>\n",
       "      <td>-0.223800</td>\n",
       "    </tr>\n",
       "    <tr>\n",
       "      <th>2</th>\n",
       "      <td>-0.584983</td>\n",
       "      <td>0.148239</td>\n",
       "      <td>0.606352</td>\n",
       "      <td>0.806748</td>\n",
       "      <td>0.075890</td>\n",
       "      <td>-0.140405</td>\n",
       "      <td>-0.116555</td>\n",
       "      <td>0.220999</td>\n",
       "      <td>-0.266751</td>\n",
       "      <td>-0.562176</td>\n",
       "      <td>...</td>\n",
       "      <td>-0.406852</td>\n",
       "      <td>1.244176</td>\n",
       "      <td>0.375294</td>\n",
       "      <td>1.291144</td>\n",
       "      <td>0.824687</td>\n",
       "      <td>2.770780</td>\n",
       "      <td>-0.179373</td>\n",
       "      <td>-0.786025</td>\n",
       "      <td>0.560227</td>\n",
       "      <td>-0.548004</td>\n",
       "    </tr>\n",
       "    <tr>\n",
       "      <th>3</th>\n",
       "      <td>0.193432</td>\n",
       "      <td>1.292285</td>\n",
       "      <td>0.854470</td>\n",
       "      <td>0.486911</td>\n",
       "      <td>0.341579</td>\n",
       "      <td>0.529897</td>\n",
       "      <td>0.640292</td>\n",
       "      <td>0.450361</td>\n",
       "      <td>0.375602</td>\n",
       "      <td>0.654629</td>\n",
       "      <td>...</td>\n",
       "      <td>-0.975856</td>\n",
       "      <td>0.528008</td>\n",
       "      <td>-0.661580</td>\n",
       "      <td>0.903560</td>\n",
       "      <td>-1.144311</td>\n",
       "      <td>0.899273</td>\n",
       "      <td>-1.229087</td>\n",
       "      <td>0.110236</td>\n",
       "      <td>2.960029</td>\n",
       "      <td>-0.956088</td>\n",
       "    </tr>\n",
       "    <tr>\n",
       "      <th>4</th>\n",
       "      <td>-0.825078</td>\n",
       "      <td>-0.712986</td>\n",
       "      <td>-0.865418</td>\n",
       "      <td>-1.029277</td>\n",
       "      <td>-1.073589</td>\n",
       "      <td>-1.243794</td>\n",
       "      <td>-0.874860</td>\n",
       "      <td>-1.021802</td>\n",
       "      <td>-0.959120</td>\n",
       "      <td>-0.545164</td>\n",
       "      <td>...</td>\n",
       "      <td>-0.189255</td>\n",
       "      <td>1.433153</td>\n",
       "      <td>-0.525024</td>\n",
       "      <td>-1.507232</td>\n",
       "      <td>-0.966014</td>\n",
       "      <td>-0.535219</td>\n",
       "      <td>-0.432634</td>\n",
       "      <td>-1.336981</td>\n",
       "      <td>-1.421282</td>\n",
       "      <td>0.632431</td>\n",
       "    </tr>\n",
       "  </tbody>\n",
       "</table>\n",
       "<p>5 rows × 264 columns</p>\n",
       "</div>"
      ],
      "text/plain": [
       "        0         1         2         3         4         5         6    \\\n",
       "0 -1.571333 -1.423949 -0.935285 -1.169432 -0.772396 -1.258998 -0.811812   \n",
       "1 -0.602171  0.267213  0.055395 -0.711935 -1.073589 -0.876857 -0.373028   \n",
       "2 -0.584983  0.148239  0.606352  0.806748  0.075890 -0.140405 -0.116555   \n",
       "3  0.193432  1.292285  0.854470  0.486911  0.341579  0.529897  0.640292   \n",
       "4 -0.825078 -0.712986 -0.865418 -1.029277 -1.073589 -1.243794 -0.874860   \n",
       "\n",
       "        7         8         9      ...          254       255       256  \\\n",
       "0 -0.985136 -0.581884 -0.756522    ...     1.279245  1.266232 -0.158097   \n",
       "1  0.155161  0.399480  0.963212    ...    -0.897103 -0.852736  0.074136   \n",
       "2  0.220999 -0.266751 -0.562176    ...    -0.406852  1.244176  0.375294   \n",
       "3  0.450361  0.375602  0.654629    ...    -0.975856  0.528008 -0.661580   \n",
       "4 -1.021802 -0.959120 -0.545164    ...    -0.189255  1.433153 -0.525024   \n",
       "\n",
       "        257       258       259       260       261       262       263  \n",
       "0  0.297566  0.164625  0.499226  0.921775 -0.185416  0.092879  0.006096  \n",
       "1  1.103637  0.111916 -0.726099  0.269456 -1.177036 -0.694615 -0.223800  \n",
       "2  1.291144  0.824687  2.770780 -0.179373 -0.786025  0.560227 -0.548004  \n",
       "3  0.903560 -1.144311  0.899273 -1.229087  0.110236  2.960029 -0.956088  \n",
       "4 -1.507232 -0.966014 -0.535219 -0.432634 -1.336981 -1.421282  0.632431  \n",
       "\n",
       "[5 rows x 264 columns]"
      ]
     },
     "execution_count": 103,
     "metadata": {},
     "output_type": "execute_result"
    }
   ],
   "source": [
    "# Feature scaling\n",
    "from sklearn.preprocessing import StandardScaler\n",
    "def feature_scaling(X_train, X_test):   \n",
    "    sc = StandardScaler()\n",
    "\n",
    "    X_train = sc.fit_transform(X_train)\n",
    "    X_test = sc.transform(X_test)\n",
    "    return X_train, X_test\n",
    "\n",
    "X_train, X_test = feature_scaling(X_train, X_test)\n",
    "\n",
    "\n",
    "X_train_df = pd.DataFrame(X_train)\n",
    "X_train_df.head()"
   ]
  },
  {
   "cell_type": "markdown",
   "metadata": {},
   "source": [
    "<p>\n",
    "Now our data is scaled \n",
    "</p>"
   ]
  },
  {
   "cell_type": "markdown",
   "metadata": {},
   "source": [
    "<p>\n",
    "Below of the scatter plot of the rescaled features \n",
    "</p>"
   ]
  },
  {
   "cell_type": "code",
   "execution_count": 104,
   "metadata": {},
   "outputs": [
    {
     "data": {
      "text/plain": [
       "<matplotlib.collections.PathCollection at 0x7fbbc8292160>"
      ]
     },
     "execution_count": 104,
     "metadata": {},
     "output_type": "execute_result"
    },
    {
     "data": {
      "image/png": "[encoded data removed]",
      "text/plain": [
       "<Figure size 432x288 with 1 Axes>"
      ]
     },
     "metadata": {
      "needs_background": "light"
     },
     "output_type": "display_data"
    }
   ],
   "source": [
    "# rescale the values\n",
    "X_train_pca = pca.fit_transform(X_train)\n",
    "\n",
    "df_pca = pd.DataFrame(X_train_pca)\n",
    "\n",
    "plt.title('Normalized 2D Features')\n",
    "plt.scatter(df_pca[0], df_pca[1])"
   ]
  },
  {
   "cell_type": "markdown",
   "metadata": {},
   "source": [
    "<p>\n",
    "In the histograms below, we can see how the feature values are distributed for the first 2 principal components of the <b>normalized</b> data.\n",
    "</p>"
   ]
  },
  {
   "cell_type": "code",
   "execution_count": 105,
   "metadata": {},
   "outputs": [
    {
     "data": {
      "text/plain": [
       "array([[<matplotlib.axes._subplots.AxesSubplot object at 0x7fbbc8246080>,\n",
       "        <matplotlib.axes._subplots.AxesSubplot object at 0x7fbbc826da58>]],\n",
       "      dtype=object)"
      ]
     },
     "execution_count": 105,
     "metadata": {},
     "output_type": "execute_result"
    },
    {
     "data": {
      "image/png": "[encoded data removed]",
      "text/plain": [
       "<Figure size 432x288 with 2 Axes>"
      ]
     },
     "metadata": {
      "needs_background": "light"
     },
     "output_type": "display_data"
    }
   ],
   "source": [
    "df_pca.hist()"
   ]
  },
  {
   "cell_type": "markdown",
   "metadata": {},
   "source": [
    "<p>\n",
    "In the density plot below, we can see how the feature values are distributed for the first 2 principal components of the <b>normalized</b> data.\n",
    "</p>"
   ]
  },
  {
   "cell_type": "code",
   "execution_count": 106,
   "metadata": {},
   "outputs": [
    {
     "data": {
      "text/plain": [
       "array([<matplotlib.axes._subplots.AxesSubplot object at 0x7fbbc823d588>,\n",
       "       <matplotlib.axes._subplots.AxesSubplot object at 0x7fbbc8146518>],\n",
       "      dtype=object)"
      ]
     },
     "execution_count": 106,
     "metadata": {},
     "output_type": "execute_result"
    },
    {
     "data": {
      "image/png": "[encoded data removed]",
      "text/plain": [
       "<Figure size 432x288 with 2 Axes>"
      ]
     },
     "metadata": {
      "needs_background": "light"
     },
     "output_type": "display_data"
    }
   ],
   "source": [
    "df_pca.plot(kind='density',subplots=True,sharex=False)"
   ]
  },
  {
   "cell_type": "markdown",
   "metadata": {},
   "source": [
    "## 3. Methods and experiments"
   ]
  },
  {
   "cell_type": "markdown",
   "metadata": {},
   "source": [
    "<p>\n",
    "From the data analysis that was done above, we saw that our data is highly imbalanced, with almost half of the samples being from the first class.\n",
    "    \n",
    "There are multiple ways to deal with imbalanced datasets and we will discuss some of them below.\n",
    "</p>"
   ]
  },
  {
   "cell_type": "markdown",
   "metadata": {},
   "source": [
    "<p>\n",
    "<h4>Class balancing</h4>\n",
    "\n",
    "We can deal with imbalanced data in many ways. For example we can remove some of the data from the first class (the class from where most of the samples are) and balance it that way.\n",
    "Another approach that we can do is to duplicate some of the data from the classes that don't have that many samples. We should be cautious with this approach because duplicating more data might cause the classifier to overfit.\n",
    "\n",
    "Below is a code that removes some of the data from the first class and duplicates some of the data from classes 7, 9 and 10.\n",
    "</p>"
   ]
  },
  {
   "cell_type": "code",
   "execution_count": 107,
   "metadata": {},
   "outputs": [],
   "source": [
    "# Additional preprocessing\n",
    "def balance_classes(X_train, y_train):\n",
    "    df_x = pd.DataFrame(X_train)\n",
    "    df_y = pd.DataFrame({'Label': y_train})\n",
    "    df = pd.concat([df_x, df_y], axis=1)\n",
    "\n",
    "#     remove elements from classes\n",
    "    label_1 = df.loc[df['Label'] == 1]\n",
    "    indexes = label_1.index.values\n",
    "    indexes = indexes[:int(len(indexes) / 1.7)]\n",
    "    df = df.drop(df.index[indexes])  \n",
    "    df = df.reset_index(drop=True)\n",
    "        \n",
    "    \n",
    "#     duplicate classes\n",
    "    label_10 = df.loc[df['Label'] == 10]\n",
    "    label_10 = label_10.iloc[:int(len(label_10) / 2), :]\n",
    "    df = df.append([label_10] * 1, ignore_index=True)\n",
    "\n",
    "    label_9 = df.loc[df['Label'] == 9]\n",
    "    label_9 = label_9.iloc[:int(len(label_9) / 2), :]\n",
    "    df = df.append([label_9] * 1, ignore_index=True)\n",
    "    \n",
    "    label_7 = df.loc[df['Label'] == 7]\n",
    "    label_7 = label_7.iloc[:int(len(label_7) / 3), :]\n",
    "    df = df.append([label_7] * 1, ignore_index=True)\n",
    "\n",
    "    \n",
    "    df = df.reset_index(drop=True)\n",
    "\n",
    "    # reshuffle the data\n",
    "    df = df.sample(frac=1).reset_index(drop=True)\n",
    "\n",
    "    df_x = df.drop('Label', axis=1)\n",
    "    df_y = df['Label']\n",
    "\n",
    "    df_x.to_csv('data/preprocessed_train_data.csv', index=False, header=False)\n",
    "    df_y.to_csv('data/preprocessed_labels.csv', index=False, header=False)"
   ]
  },
  {
   "cell_type": "markdown",
   "metadata": {},
   "source": [
    "<p>\n",
    "In my case, removing some data and duplicating some <b>did not</b> give me better results so I did not use that code for the end result.\n",
    "The reason for that might be because we don't have that many data points so, removing samples causes the classifiers to perform worse.\n",
    "<br>\n",
    "<h4>PCA</h4>\n",
    "\n",
    "Next thing we can do to the data is to perform dimensionality reduction since our data has relatively high dimensionality.\n",
    "We can achieve that with Principal Component Analysis, the same way as we did it for the visualization.\n",
    "The only difference is that now we use 80 principal components instead of just 2.\n",
    "\n",
    "From the block below we can see that if we have 80 dimensions, those dimensions explain 91% of the data.\n",
    "</p>"
   ]
  },
  {
   "cell_type": "code",
   "execution_count": 108,
   "metadata": {},
   "outputs": [
    {
     "name": "stdout",
     "output_type": "stream",
     "text": [
      "0.9120270270896782\n"
     ]
    }
   ],
   "source": [
    "# Dimensionality reduction with PCA\n",
    "pca = PCA(\n",
    "    n_components = 80\n",
    ")\n",
    "\n",
    "\n",
    "X_train_pca = pca.fit_transform(X_train)\n",
    "X_test_pca = pca.transform(X_test)\n",
    "\n",
    "explained_variance = pca.explained_variance_ratio_\n",
    "print(sum(explained_variance))"
   ]
  },
  {
   "cell_type": "markdown",
   "metadata": {},
   "source": [
    "<p>\n",
    "In my case, using the PCA approach resulted in faster computation since the number of dimensions was drastically reduced.\n",
    "Using PCA <b>did not</b> improve the accuracy so I am not using it in the final solution.\n",
    "</p>"
   ]
  },
  {
   "cell_type": "markdown",
   "metadata": {},
   "source": [
    "<p>\n",
    "The decision for choosing the best classifier was done using trial and error approach.\n",
    "In order to find the best hyperparameters for every classifier I used the grid search method, which searches between multiple parameters and finds the parameter that gives the best accuracy for our training data.\n",
    "    \n",
    "I have tried using different classifiers, such as: <b>Logistic Regression, Support Vector Machines, Random Forests, Neural Network, Bagging Classifier, Ada Boost Classifier and Gradient Boosting Classifier</b>.\n",
    "\n",
    "In the cell below we can see the best hyperparameters for different classifiers that I have tried.\n",
    "</p>"
   ]
  },
  {
   "cell_type": "code",
   "execution_count": 109,
   "metadata": {},
   "outputs": [],
   "source": [
    "from sklearn.linear_model import LogisticRegression\n",
    "from sklearn.svm import SVC\n",
    "from sklearn.neural_network import MLPClassifier\n",
    "from sklearn.ensemble import BaggingClassifier, RandomForestClassifier, AdaBoostClassifier, GradientBoostingClassifier\n",
    "import xgboost as xgb\n",
    "\n",
    "\n",
    "LR = LogisticRegression(\n",
    "    random_state = 0,\n",
    "    solver = 'saga',\n",
    "    multi_class = 'ovr',\n",
    "    max_iter = 500,\n",
    "    penalty = 'l1',\n",
    "    C = 1,\n",
    "    fit_intercept = True,\n",
    "    class_weight = None\n",
    ")\n",
    "\n",
    "\n",
    "SVM = SVC(\n",
    "    kernel = 'rbf',\n",
    "    random_state = 0,\n",
    "    C = 5,\n",
    "    gamma = 0.003,\n",
    "    probability = True\n",
    ")\n",
    "\n",
    "\n",
    "\n",
    "RF = RandomForestClassifier(\n",
    "    random_state = 0,\n",
    "    n_estimators = 200,\n",
    "    criterion = 'gini',\n",
    "    max_depth = None,\n",
    "    min_samples_split = 2,\n",
    "    min_samples_leaf = 2,\n",
    "    min_weight_fraction_leaf = 0,\n",
    "    max_features = 'auto',\n",
    "    min_impurity_decrease = 0.0,\n",
    "    bootstrap = False,\n",
    "    class_weight = 'balanced'   \n",
    ")\n",
    "\n",
    "\n",
    "\n",
    "NN = MLPClassifier(\n",
    "    random_state = 0,\n",
    "    max_iter = 500,\n",
    "    hidden_layer_sizes = (500,),\n",
    "    activation = 'logistic',\n",
    "    solver = 'sgd',\n",
    "    alpha = 0.1,\n",
    "    learning_rate = 'adaptive',\n",
    "    shuffle = False,\n",
    "    momentum = 0.9,\n",
    "    nesterovs_momentum = False\n",
    ")\n",
    "\n",
    "\n",
    "bc = BaggingClassifier(\n",
    "    base_estimator = RF,\n",
    "    n_estimators = 15,\n",
    "    bootstrap = False\n",
    "    \n",
    ")\n",
    "\n",
    "\n",
    "ada = AdaBoostClassifier(\n",
    "    random_state = 0,\n",
    "    n_estimators = 80,\n",
    "    algorithm = 'SAMME'\n",
    ")\n",
    "\n",
    "\n",
    "gbc = GradientBoostingClassifier(\n",
    "    loss =  'deviance',\n",
    "    n_estimators = 1000,\n",
    "    subsample = 0.8,\n",
    "    criterion = 'friedman_mse',\n",
    "    max_features = 'sqrt'\n",
    ")\n",
    "\n",
    "\n",
    "\n",
    "bst = xgb.XGBClassifier(\n",
    "    booster = 'gbtree',\n",
    "    n_estimators = 500\n",
    ")\n",
    "\n"
   ]
  },
  {
   "cell_type": "markdown",
   "metadata": {},
   "source": [
    "<p>\n",
    "From all the classifiers defined above, <b>XGBClassifier</b> with <b>Gradient Boosting Tree</b> gave the best results, so I am using that one for measuring the performance.\n",
    "</p>"
   ]
  },
  {
   "cell_type": "markdown",
   "metadata": {},
   "source": [
    "<h4>Grid search</h4>\n",
    "<p>\n",
    "In the cell below, we can see an example of grid search, which helped in finding the best hyperparameters for the classifiers.\n",
    "</p>"
   ]
  },
  {
   "cell_type": "code",
   "execution_count": 111,
   "metadata": {},
   "outputs": [
    {
     "name": "stdout",
     "output_type": "stream",
     "text": [
      "0.637405454962182\n",
      "{'booster': 'gbtree', 'objective': 'reg:linear'}\n"
     ]
    }
   ],
   "source": [
    "# Grid search\n",
    "from sklearn.model_selection import GridSearchCV\n",
    "\n",
    "\n",
    "parameters = [{'booster': ['gbtree'],\n",
    "               'objective': ['reg:linear']\n",
    "              }\n",
    "             ]\n",
    "\n",
    "grid_search = GridSearchCV(\n",
    "    estimator = bst,\n",
    "    param_grid = parameters,\n",
    "    scoring = 'accuracy',\n",
    "    cv = 2,\n",
    "    n_jobs = -1\n",
    ")\n",
    "\n",
    "grid_search = grid_search.fit(X_train, y_train)\n",
    "\n",
    "\n",
    "# Best score\n",
    "best_accuracy = grid_search.best_score_\n",
    "best_parameters = grid_search.best_params_\n",
    "print(best_accuracy)\n",
    "print(best_parameters)"
   ]
  },
  {
   "cell_type": "markdown",
   "metadata": {},
   "source": [
    "## 4. Results"
   ]
  },
  {
   "cell_type": "markdown",
   "metadata": {},
   "source": [
    "<p>\n",
    "In order to measure the performace of our classifier, we can split the training data.\n",
    "We do that in the following block:\n",
    "</p>"
   ]
  },
  {
   "cell_type": "code",
   "execution_count": 112,
   "metadata": {
    "scrolled": true
   },
   "outputs": [
    {
     "data": {
      "text/plain": [
       "XGBClassifier(base_score=0.5, booster='gbtree', colsample_bylevel=1,\n",
       "       colsample_bytree=1, gamma=0, learning_rate=0.1, max_delta_step=0,\n",
       "       max_depth=3, min_child_weight=1, missing=None, n_estimators=500,\n",
       "       n_jobs=1, nthread=None, objective='multi:softprob', random_state=0,\n",
       "       reg_alpha=0, reg_lambda=1, scale_pos_weight=1, seed=None,\n",
       "       silent=True, subsample=1)"
      ]
     },
     "execution_count": 112,
     "metadata": {},
     "output_type": "execute_result"
    }
   ],
   "source": [
    "# split the data\n",
    "from sklearn.model_selection import train_test_split\n",
    "\n",
    "X_train_split, X_test_split, y_train_split, y_test_split = train_test_split(X_train, y_train, test_size=0.3, random_state=0)\n",
    "\n",
    "# train the classifier with the splitted data\n",
    "bst.fit(X_train_split, y_train_split)"
   ]
  },
  {
   "cell_type": "markdown",
   "metadata": {},
   "source": [
    "<p>\n",
    "Next thing we do is to check the <b>accuracy</b> of the classifier.\n",
    "</p>"
   ]
  },
  {
   "cell_type": "code",
   "execution_count": 113,
   "metadata": {
    "scrolled": true
   },
   "outputs": [
    {
     "name": "stdout",
     "output_type": "stream",
     "text": [
      "0.6455309396485867\n"
     ]
    }
   ],
   "source": [
    "from sklearn.metrics import accuracy_score\n",
    "\n",
    "y_pred_split = bst.predict(X_test_split)\n",
    "\n",
    "print(accuracy_score(y_test_split, y_pred_split))\n"
   ]
  },
  {
   "cell_type": "markdown",
   "metadata": {},
   "source": [
    "<p>\n",
    "For the accuracy measure on the splitted data we got <b>0.6455</b> \n",
    "</p>"
   ]
  },
  {
   "cell_type": "markdown",
   "metadata": {},
   "source": [
    "<p>\n",
    "In the next block, we measure the <b>LogLoss</b> of the classifier.\n",
    "</p>"
   ]
  },
  {
   "cell_type": "code",
   "execution_count": 114,
   "metadata": {},
   "outputs": [
    {
     "name": "stdout",
     "output_type": "stream",
     "text": [
      "1.3182234124067287\n"
     ]
    }
   ],
   "source": [
    "from sklearn.metrics import log_loss\n",
    "\n",
    "y_pred_split_logloss = bst.predict_proba(X_test_split)\n",
    "\n",
    "print(log_loss(y_test_split, y_pred_split_logloss))"
   ]
  },
  {
   "cell_type": "markdown",
   "metadata": {},
   "source": [
    "<p>\n",
    "For the LogLoss measure on the splitted data we got <b>1.3182</b>\n",
    "</p>"
   ]
  },
  {
   "cell_type": "markdown",
   "metadata": {},
   "source": [
    "<p>\n",
    "Next thing we do is build a confussion matrix and compare the predicted and the real labels and see on which classes our classifier performed good and on which it performed worse. \n",
    "</p>"
   ]
  },
  {
   "cell_type": "code",
   "execution_count": 115,
   "metadata": {},
   "outputs": [
    {
     "data": {
      "text/plain": [
       "<matplotlib.axes._subplots.AxesSubplot at 0x7fbbc80cfeb8>"
      ]
     },
     "execution_count": 115,
     "metadata": {},
     "output_type": "execute_result"
    },
    {
     "data": {
      "image/png": "[encoded data removed]",
      "text/plain": [
       "<Figure size 720x504 with 2 Axes>"
      ]
     },
     "metadata": {
      "needs_background": "light"
     },
     "output_type": "display_data"
    }
   ],
   "source": [
    "#Confusion matrix ...\n",
    "import seaborn as sns\n",
    "from sklearn.metrics import confusion_matrix\n",
    "\n",
    "plt.figure(figsize = (10, 7))\n",
    "\n",
    "y_pred_split = bst.predict(X_test_split)\n",
    "\n",
    "cm = confusion_matrix(y_test_split, y_pred_split)\n",
    "\n",
    "df_cm = pd.DataFrame(cm, range(1, 11), range(1, 11))\n",
    "\n",
    "plt.title('Confusion Matrix')\n",
    "cmap = sns.light_palette(\"navy\")\n",
    "sns.heatmap(df_cm, annot=True, fmt='g', cmap=cmap)"
   ]
  },
  {
   "cell_type": "markdown",
   "metadata": {},
   "source": [
    "<p>\n",
    "From the confussion matrix we can see that the classifier struggled the most with the first class, which was expected because the data set in not balanced and most of the samples are form the first class.\n",
    "The classifier misclassified some of the classed and confused them with the first class because it has seen too many samples from the first class and a lot less from the other classes.\n",
    "</p>"
   ]
  },
  {
   "cell_type": "markdown",
   "metadata": {},
   "source": [
    "<p>\n",
    "In the table below, we show the performance of different classifiers on the training data\n",
    "</p>"
   ]
  },
  {
   "cell_type": "code",
   "execution_count": 116,
   "metadata": {},
   "outputs": [
    {
     "data": {
      "text/html": [
       "<div>\n",
       "<style scoped>\n",
       "    .dataframe tbody tr th:only-of-type {\n",
       "        vertical-align: middle;\n",
       "    }\n",
       "\n",
       "    .dataframe tbody tr th {\n",
       "        vertical-align: top;\n",
       "    }\n",
       "\n",
       "    .dataframe thead th {\n",
       "        text-align: right;\n",
       "    }\n",
       "</style>\n",
       "<table border=\"1\" class=\"dataframe\">\n",
       "  <thead>\n",
       "    <tr style=\"text-align: right;\">\n",
       "      <th></th>\n",
       "      <th>XGBoost</th>\n",
       "      <th>Neural Network</th>\n",
       "      <th>Logistic Regression</th>\n",
       "      <th>Support Vector Machine</th>\n",
       "    </tr>\n",
       "  </thead>\n",
       "  <tbody>\n",
       "    <tr>\n",
       "      <th>Accuracy</th>\n",
       "      <td>0.645</td>\n",
       "      <td>0.663</td>\n",
       "      <td>0.654</td>\n",
       "      <td>0.656</td>\n",
       "    </tr>\n",
       "    <tr>\n",
       "      <th>LogLoss</th>\n",
       "      <td>1.318</td>\n",
       "      <td>1.120</td>\n",
       "      <td>1.150</td>\n",
       "      <td>1.096</td>\n",
       "    </tr>\n",
       "  </tbody>\n",
       "</table>\n",
       "</div>"
      ],
      "text/plain": [
       "          XGBoost  Neural Network  Logistic Regression  Support Vector Machine\n",
       "Accuracy    0.645           0.663                0.654                   0.656\n",
       "LogLoss     1.318           1.120                1.150                   1.096"
      ]
     },
     "execution_count": 116,
     "metadata": {},
     "output_type": "execute_result"
    }
   ],
   "source": [
    "training_results = pd.DataFrame(columns=['XGBoost', 'Neural Network', 'Logistic Regression', 'Support Vector Machines'])\n",
    "training_results.style.set_properties(**{'text-align': 'left'})\n",
    "training_results.loc['Accuracy'] = [0.645, 0.663, 0.654, 0.656]\n",
    "training_results.loc['LogLoss'] = [1.318, 1.120, 1.150, 1.096]\n",
    "training_results"
   ]
  },
  {
   "cell_type": "markdown",
   "metadata": {},
   "source": [
    "<p>\n",
    "Although on the training data, some classifiers performed better than XGBoost, on the Kaggle competition, XGBoost got the best accuracy score\n",
    "</p>"
   ]
  },
  {
   "cell_type": "markdown",
   "metadata": {},
   "source": [
    "<p>\n",
    "In order to see how well we did on the Kaggle competition I use the code below.\n",
    "First I reinitialize and retrain the classifier.\n",
    "</p>"
   ]
  },
  {
   "cell_type": "code",
   "execution_count": 117,
   "metadata": {},
   "outputs": [
    {
     "data": {
      "text/plain": [
       "XGBClassifier(base_score=0.5, booster='gbtree', colsample_bylevel=1,\n",
       "       colsample_bytree=1, gamma=0, learning_rate=0.1, max_delta_step=0,\n",
       "       max_depth=3, min_child_weight=1, missing=None, n_estimators=500,\n",
       "       n_jobs=1, nthread=None, objective='multi:softprob', random_state=0,\n",
       "       reg_alpha=0, reg_lambda=1, scale_pos_weight=1, seed=None,\n",
       "       silent=True, subsample=1)"
      ]
     },
     "execution_count": 117,
     "metadata": {},
     "output_type": "execute_result"
    }
   ],
   "source": [
    "# reinitialize the classifier\n",
    "bst = xgb.XGBClassifier(\n",
    "    booster = 'gbtree',\n",
    "    n_estimators = 500\n",
    ")\n",
    "\n",
    "\n",
    "# train the classifier\n",
    "bst.fit(X_train, y_train)"
   ]
  },
  {
   "cell_type": "markdown",
   "metadata": {},
   "source": [
    "<p>\n",
    "I have used two methods for measuring the performance of the classificator: accuracy and LogLoss. \n",
    "</p>"
   ]
  },
  {
   "cell_type": "markdown",
   "metadata": {},
   "source": [
    "<p>\n",
    "I am using the code below to measure the <b>accuracy</b> and compare it on Kaggle.\n",
    "In this case I am not splitting the training data into train and test but instead, I am using all the training data.\n",
    "</p>"
   ]
  },
  {
   "cell_type": "code",
   "execution_count": 118,
   "metadata": {},
   "outputs": [],
   "source": [
    "# Accuracy\n",
    "y_pred = bst.predict(X_test)\n",
    "index = list(range(1, len(y_pred) + 1))\n",
    "\n",
    "df = pd.DataFrame({'Sample_id': index, 'Sample_label': y_pred})\n",
    "df.to_csv('BST.csv', sep=',', index=False)"
   ]
  },
  {
   "cell_type": "markdown",
   "metadata": {},
   "source": [
    "<p>\n",
    "After uploading the 'BST.csv' file on Kaggle, I got <b>0.6673</b> accuracy \n",
    "</p>"
   ]
  },
  {
   "cell_type": "markdown",
   "metadata": {},
   "source": [
    "<p>\n",
    "In order to measure the <b>LogLoss</b> and compare it on Kaggle, I am using the code below.\n",
    "Just like for the accuracy, I am not splitting the training data but instead I am using the whole data.\n",
    "</p>"
   ]
  },
  {
   "cell_type": "code",
   "execution_count": 119,
   "metadata": {},
   "outputs": [],
   "source": [
    "# LogLoss\n",
    "y_pred_logloss = bst.predict_proba(X_test)\n",
    "index = list(range(1, len(y_pred_logloss) + 1))\n",
    "\n",
    "columns = [\n",
    "    'Class_1',\n",
    "    'Class_2',\n",
    "    'Class_3',\n",
    "    'Class_4',\n",
    "    'Class_5',\n",
    "    'Class_6',\n",
    "    'Class_7',\n",
    "    'Class_8',\n",
    "    'Class_9',\n",
    "    'Class_10'\n",
    "]\n",
    "\n",
    "df = pd.DataFrame(y_pred_logloss, columns=columns)\n",
    "df.insert(loc=0, column='Sample_id', value=index)\n",
    "df.to_csv('BST_log_loss.csv', sep=',', index=False)"
   ]
  },
  {
   "cell_type": "markdown",
   "metadata": {},
   "source": [
    "After uploading the 'BST_log_loss.csv' file on Kaggle, I got <b>0.186</b> score for the LogLoss"
   ]
  },
  {
   "cell_type": "markdown",
   "metadata": {},
   "source": [
    "For the accuracy measure, the classifier did better on the Kaggle competiton with <b>0.667</b> accuracy score, compared to <b>0.645</b> that we got by splitting the training data into training and test data.\n",
    "\n",
    "For the LogLoss measure, the classifier did worse on the Kaggle competition with <b>0.186</b> score, compared to <b>1.318</b> that we got when we split the training data into training and test data."
   ]
  },
  {
   "cell_type": "markdown",
   "metadata": {},
   "source": [
    "## 5. Discussion/Conclusions"
   ]
  },
  {
   "cell_type": "markdown",
   "metadata": {},
   "source": [
    "<p>\n",
    "From the report, we can say that music genre classification is not a trivial task and it requires a lot of effort in order to get satisfying results.\n",
    "\n",
    "Using the XGBoost classifier, we managed to get <b>0.667</b> accuracy and <b>0.186</b> LogLoss score, which is a decent result considering the size and quality of the data set.\n",
    "<br><br><br>\n",
    "Log loss is not robust to class imbalance.\n",
    "It uses the class predictions from the decision function, but weights each type of misclassification equally, so it can misclassify all the data points as they were from class 1 and still give good results, which will be misleading.\n",
    "\n",
    "Same as the Log loss, the accuracy measure is also not robust to class imbalance.\n",
    "It can misclassify all the data points as class 1 and still give good accuracy result because most of the data points are from class 1.\n",
    "<br><br><br>\n",
    "Compared to the other papers found online, the results in my paper are slightly worse.\n",
    "One of the reasons for that is the bad quality of the data set that was used.\n",
    "<br><br><br>\n",
    "The approach for music genre classification proposed in this report is not perfect and there is still a lot of room for improvement.\n",
    "We saw from the confusion matrix that because the data set was imbalanced, the classifier misclassified many data points as class 1.\n",
    "One suggestion is to try to gather more data from the minority classes. That way we can balance the data set and improve the accuracy.\n",
    "<br><br><br>\n",
    "This report answered the questions defined in the introduction.\n",
    "We learned how to analyze the data that we have.\n",
    "We also learned the class distribution and found out that the dataset is highly imbalanced.\n",
    "In order to deal with the imbalanced data set we tried several approaches, such as: principal component analysis and trying to balance the classes with up-sampling and down-sampling.\n",
    "\n",
    "Later on, we used trial and error approach in order to find the best classifier for our data.\n",
    "Using the grid search method, we managed to find the best hyperparameters for the proposed classifiers.\n",
    "\n",
    "The XGBoost classifier with 'gbtree' booster gave the best results from all the classifiers.\n",
    "\n",
    "In the last part, we used a confusion matrix to see where our classifier struggled the most.\n",
    "For the evaluation  of the results we used two performance measures: LogLoss and accuracy.\n",
    "</p>"
   ]
  },
  {
   "cell_type": "markdown",
   "metadata": {},
   "source": [
    "## 6. References"
   ]
  },
  {
   "cell_type": "markdown",
   "metadata": {},
   "source": [
    "<p>\n",
    "Alexander Jung, \"Machine Learning: Basic Principles\", Aalto University, 2018\n",
    "\n",
    "RJ Nowling, \"Pitfalls When Working With Imbalanced Data Sets\", 2016\n",
    "    \n",
    "Jason Brownlee, \"8 Tactics to Combat Imbalanced Classes in Your Machine Learning Dataset\", 2015\n",
    "\n",
    "Michael Haggblade, Yang Hong, Kenny Kao, \"Music Genre Classification\"\n",
    "</p>"
   ]
  }
 ],
 "metadata": {
  "kernelspec": {
   "display_name": "Python 3",
   "language": "python",
   "name": "python3"
  },
  "language_info": {
   "codemirror_mode": {
    "name": "ipython",
    "version": 3
   },
   "file_extension": ".py",
   "mimetype": "text/x-python",
   "name": "python",
   "nbconvert_exporter": "python",
   "pygments_lexer": "ipython3",
   "version": "3.6.7"
  }
 },
 "nbformat": 4,
 "nbformat_minor": 2
}
